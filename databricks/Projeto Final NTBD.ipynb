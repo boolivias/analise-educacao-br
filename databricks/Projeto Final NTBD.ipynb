{
 "cells": [
  {
   "cell_type": "markdown",
   "metadata": {
    "application/vnd.databricks.v1+cell": {
     "cellMetadata": {},
     "inputWidgets": {},
     "nuid": "eea7b8c2-9399-4fd8-ae31-1e3a7f1746f4",
     "showTitle": false,
     "title": ""
    }
   },
   "source": [
    "# Novas Tecnologias em Bancos de Dados\n",
    "# Projeto Prático - Fase Final\n",
    "\n",
    "<br>\n",
    "\n",
    "## Tema: Educação no Brasil\n",
    "\n",
    "<br><br>\n",
    "\n",
    "### Pedro Henrique Mendes - 771056\n",
    "### Jean Wylmer Flores Mendoza - 771544"
   ]
  },
  {
   "cell_type": "markdown",
   "metadata": {
    "application/vnd.databricks.v1+cell": {
     "cellMetadata": {},
     "inputWidgets": {},
     "nuid": "351046f6-5b8b-4911-99bb-2bf233f50d79",
     "showTitle": false,
     "title": ""
    }
   },
   "source": [
    "## 1. ETL\n",
    "\n",
    "Foi feito o download de todas as bases de 2017 a 2022 em:\n",
    "- https://www.gov.br/inep/pt-br/acesso-a-informacao/dados-abertos/microdados/enem\n",
    "- https://www.gov.br/inep/pt-br/acesso-a-informacao/dados-abertos/microdados/censo-escolar\n",
    "\n",
    "Então foram extraídos todos os arquivos .zip e executado o seguinte script python localmente para transformar os arquivos csv em arquivos parquet, diminuindo o tamanho dos arquivos para permitir o upload e análise mais facilmente no ambiente cloud:"
   ]
  },
  {
   "cell_type": "markdown",
   "metadata": {
    "application/vnd.databricks.v1+cell": {
     "cellMetadata": {},
     "inputWidgets": {},
     "nuid": "12e5dbc8-1080-46a1-b8e5-9deb8c8dfefc",
     "showTitle": false,
     "title": ""
    }
   },
   "source": [
    "\n",
    "```python\n",
    "import pandas as pd\n",
    "import glob\n",
    "from pathlib import Path\n",
    "import os\n",
    "import shutil\n",
    "\n",
    "def transform_csv_to_parquet(file_path, output_path, low_memory = True):\n",
    "    df = pd.read_csv(file_path, delimiter=';', header=[0],encoding=\"Latin-1\", low_memory=low_memory)\n",
    "    filename = Path(file_path).stem\n",
    "    df.to_parquet(output_path + filename + \".parquet\")\n",
    "\n",
    "try:\n",
    "    print(\"Removendo diretorio output...\")\n",
    "    shutil.rmtree('./output')\n",
    "except FileNotFoundError as e:\n",
    "    print(\"Diretorio output nao existe\")\n",
    "    \n",
    "print(\"Criando diretorio output...\")\n",
    "os.mkdir(\"./output\")\n",
    "os.mkdir(\"./output/ENEM\")\n",
    "os.mkdir(\"./output/CENSO\")\n",
    "print(\"Diretorio output criado\")\n",
    "\n",
    "\n",
    "print(\"Iniciando conversao dos arquivos de microdados ENEM...\")\n",
    "files_enem = glob.glob(\"./ENEM/extraidos/MICRODADOS_ENEM_*.csv\")\n",
    "for file in files_enem:\n",
    "    transform_csv_to_parquet(file, \"./output/ENEM/\")\n",
    "    \n",
    "    \n",
    "print(\"Iniciando conversao dos arquivos de microdados do Censo Escolar...\")\n",
    "files_censo = glob.glob(\"./CENSO/extraidos/microdados_ed_basica_*.csv\")\n",
    "for file in files_censo:\n",
    "    transform_csv_to_parquet(file, \"./output/CENSO/\", False)\n",
    "```"
   ]
  }
 ],
 "metadata": {
  "application/vnd.databricks.v1+notebook": {
   "dashboards": [],
   "language": "python",
   "notebookMetadata": {
    "pythonIndentUnit": 4
   },
   "notebookName": "Projeto Final NTBD",
   "widgets": {}
  }
 },
 "nbformat": 4,
 "nbformat_minor": 0
}
